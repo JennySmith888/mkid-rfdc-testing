{
 "cells": [
  {
   "cell_type": "markdown",
   "metadata": {},
   "source": [
    "The purpose of this notebook is to develop MKID RFDC, Dac Replay, and ADC-Capture Drivers and test the ZCU111 RF system."
   ]
  },
  {
   "cell_type": "markdown",
   "metadata": {},
   "source": [
    "# Imports"
   ]
  },
  {
   "cell_type": "code",
   "execution_count": 1,
   "metadata": {},
   "outputs": [
    {
     "data": {
      "application/javascript": [
       "\n",
       "try {\n",
       "require(['notebook/js/codecell'], function(codecell) {\n",
       "  codecell.CodeCell.options_default.highlight_modes[\n",
       "      'magic_text/x-csrc'] = {'reg':[/^%%pybind11/]};\n",
       "  Jupyter.notebook.events.one('kernel_ready.Kernel', function(){\n",
       "      Jupyter.notebook.get_cells().map(function(cell){\n",
       "          if (cell.cell_type == 'code'){ cell.auto_highlight(); } }) ;\n",
       "  });\n",
       "});\n",
       "} catch (e) {};\n"
      ]
     },
     "metadata": {},
     "output_type": "display_data"
    }
   ],
   "source": [
    "import pynq\n",
    "from pynq import PL\n",
    "import xrfclk\n",
    "import xrfdc\n",
    "from pynq import DefaultIP"
   ]
  },
  {
   "cell_type": "markdown",
   "metadata": {},
   "source": [
    "# Drivers"
   ]
  },
  {
   "cell_type": "markdown",
   "metadata": {},
   "source": [
    "## DAC Replay"
   ]
  },
  {
   "cell_type": "code",
   "execution_count": 2,
   "metadata": {},
   "outputs": [],
   "source": [
    "class DACReplay(DefaultIP):\n",
    "    def __init__(self, description):\n",
    "        super().__init__(description=description)\n",
    "\n",
    "    bindto = ['mazinlab:mkidgen3:dac_table_axim:1.32']\n",
    "\n",
    "    @property\n",
    "    def replay_length(self):\n",
    "        return self.register_map.replay_length\n",
    "\n",
    "    @replay_length.setter\n",
    "    def replay_length(self, rlen):\n",
    "        self.register_map.replay_length = int(rlen)\n",
    "    \n",
    "    def start(self):\n",
    "        \"\"\"Start the core.\n",
    "        \n",
    "        \"\"\"\n",
    "        self.register_map.run = 1\n",
    "        return"
   ]
  },
  {
   "cell_type": "markdown",
   "metadata": {},
   "source": [
    "## ADC Capture"
   ]
  },
  {
   "cell_type": "code",
   "execution_count": 3,
   "metadata": {},
   "outputs": [],
   "source": [
    "class ADCCapture(DefaultIP):\n",
    "    def __init__(self, description):\n",
    "        super().__init__(description=description)\n",
    "\n",
    "    bindto = ['mazinlab:mkidgen3:adc_capture:1.33']\n",
    "\n",
    "    @property\n",
    "    def capturesize(self):\n",
    "        return self.register_map.capturesize\n",
    "\n",
    "    @capturesize.setter\n",
    "    def capturesize(self, capsize):\n",
    "        self.register_map.capturesize = int(capsize)\n",
    "        \n",
    "    @property\n",
    "    def q_addr(self):\n",
    "        return self.register_map.iqout_1\n",
    "\n",
    "    @capturesize.setter\n",
    "    def q_addr(self, q_addr):\n",
    "        self.register_map.iqout_1 = q_addr\n",
    "    \n",
    "    @property\n",
    "    def i_addr(self):\n",
    "        return self.register_map.iqout_2\n",
    "\n",
    "    @capturesize.setter\n",
    "    def i_addr(self, i_addr):\n",
    "        self.register_map.iqout_2 = i_addr\n",
    "    \n",
    "    def start(self):\n",
    "        \"\"\"Run core bring-up sequence.\n",
    "        \n",
    "        \"\"\"\n",
    "        self.register_map.CTRL.AP_START = 1\n",
    "        return"
   ]
  },
  {
   "cell_type": "markdown",
   "metadata": {},
   "source": [
    "## MKID RFDC"
   ]
  },
  {
   "cell_type": "code",
   "execution_count": 4,
   "metadata": {},
   "outputs": [],
   "source": [
    "# driver exists (see xrfdc)\n",
    "# MKIDs need new class interiting from existing??"
   ]
  },
  {
   "cell_type": "markdown",
   "metadata": {},
   "source": [
    "# Load the Overlay"
   ]
  },
  {
   "cell_type": "code",
   "execution_count": 5,
   "metadata": {},
   "outputs": [
    {
     "name": "stdout",
     "output_type": "stream",
     "text": [
      "PL Bitfile: /home/xilinx/jupyter_notebooks/adc-to-xrt-mig-snap/clkw_no_lock.bit\n",
      "PL Timestamp: 2021/9/8 22:19:0 +152164\n",
      "Overlay timestamp: 2021/9/8 22:19:0 +152164  Loaded: True\n"
     ]
    }
   ],
   "source": [
    "ol = pynq.Overlay('clkw_no_lock.bit', ignore_version=True)\n",
    "ol.download()\n",
    "print(f\"PL Bitfile: {PL.bitfile_name}\\nPL Timestamp: {PL.timestamp}\\n\"\n",
    "      f\"Overlay timestamp: {ol.timestamp}  Loaded: {ol.is_loaded()}\")"
   ]
  },
  {
   "cell_type": "code",
   "execution_count": 6,
   "metadata": {},
   "outputs": [],
   "source": [
    "# Necessary for PL DRAM XRT Allocation\n",
    "xrt_ol = pynq.Overlay('mig_modified_ip_layout_mem_topology.xclbin', device=pynq.Device.devices[1])\n",
    "xrt_ol.download()"
   ]
  },
  {
   "cell_type": "markdown",
   "metadata": {},
   "source": [
    "## Bind Drivers"
   ]
  },
  {
   "cell_type": "code",
   "execution_count": 7,
   "metadata": {},
   "outputs": [],
   "source": [
    "rfdc=ol.usp_rf_data_converter_0\n",
    "ddr=ol.ddr4_1\n",
    "adcsnap=ol.adc_capture_1\n",
    "dacreplay=ol.dac_table_axim_0"
   ]
  },
  {
   "cell_type": "markdown",
   "metadata": {},
   "source": [
    "## Allocate a Chunk of PLDRAM for capture"
   ]
  },
  {
   "cell_type": "code",
   "execution_count": 8,
   "metadata": {},
   "outputs": [],
   "source": [
    "pl_buf = pynq.allocate((1024,), 'u4', target=xrt_ol.MIG0)"
   ]
  },
  {
   "cell_type": "markdown",
   "metadata": {},
   "source": [
    "## Setup RFDC"
   ]
  },
  {
   "cell_type": "code",
   "execution_count": 9,
   "metadata": {},
   "outputs": [],
   "source": [
    "xrfclk.set_all_ref_clks(409.6)\n",
    "# new driver: xrfclk.set_ref_clks(409.6)"
   ]
  },
  {
   "cell_type": "code",
   "execution_count": 10,
   "metadata": {},
   "outputs": [],
   "source": [
    "adc_tile = rfdc.adc_tiles[1]\n",
    "adc0 = adc_tile.blocks[0]\n",
    "adc1 = adc_tile.blocks[1]"
   ]
  },
  {
   "cell_type": "code",
   "execution_count": 11,
   "metadata": {},
   "outputs": [
    {
     "data": {
      "text/plain": [
       "{'CoarseMixFreq': 16,\n",
       " 'EventSource': 2,\n",
       " 'FineMixerScale': 0,\n",
       " 'Freq': 0.0,\n",
       " 'MixerMode': 4,\n",
       " 'MixerType': 1,\n",
       " 'PhaseOffset': 0.0}"
      ]
     },
     "execution_count": 11,
     "metadata": {},
     "output_type": "execute_result"
    }
   ],
   "source": [
    "adc0.MixerSettings"
   ]
  },
  {
   "cell_type": "code",
   "execution_count": 12,
   "metadata": {},
   "outputs": [],
   "source": [
    "adc_tile.DynamicPLLConfig(1, 409.6, 1228.8)\n",
    "adc0.NyquistZone = 1\n",
    "adc0.MixerSettings = {\n",
    "    'CoarseMixFreq'  : xrfdc.COARSE_MIX_BYPASS,\n",
    "    'EventSource'    : xrfdc.EVNT_SRC_TILE,\n",
    "    'FineMixerScale' : xrfdc.MIXER_SCALE_1P0,\n",
    "    'Freq'           : 64,\n",
    "    'MixerMode'      : xrfdc.MIXER_MODE_R2C,\n",
    "    'MixerType'      : xrfdc.MIXER_TYPE_FINE,\n",
    "    'PhaseOffset'    : 0.0\n",
    "}\n",
    "adc0.UpdateEvent(xrfdc.EVENT_MIXER)\n",
    "adc_tile.SetupFIFO(True)"
   ]
  },
  {
   "cell_type": "markdown",
   "metadata": {},
   "source": [
    "## Setup DAC Replay"
   ]
  },
  {
   "cell_type": "code",
   "execution_count": 13,
   "metadata": {},
   "outputs": [],
   "source": [
    "dacreplay.replay_length = 0"
   ]
  },
  {
   "cell_type": "markdown",
   "metadata": {},
   "source": [
    "## Setup ADC Capture"
   ]
  },
  {
   "cell_type": "code",
   "execution_count": 14,
   "metadata": {},
   "outputs": [],
   "source": [
    "adcsnap.capturesize = 28 # 27 to 32\n",
    "adcsnap.q_adrr = (pl_buf.device_address) & (0xffffffff) # set addresses\n",
    "adcsnap.i_addr = (pl_buf.device_address) >> 32 # set addresses"
   ]
  },
  {
   "cell_type": "code",
   "execution_count": 15,
   "metadata": {},
   "outputs": [
    {
     "name": "stdout",
     "output_type": "stream",
     "text": [
      "Will capture 3662 MB of data @ 16384 MBps. ETA 234 ms\n"
     ]
    }
   ],
   "source": [
    "n_cap = 40000000*3\n",
    "adc_mb=n_cap*32/1024**2\n",
    "adc_mbps=32*512\n",
    "adc_eta=n_cap/512e3\n",
    "print(f\"Will capture {adc_mb:.0f} MB of data @ {adc_mbps} MBps. ETA {adc_eta:.0f} ms\")\n",
    "\n",
    "#adc0.capture(n_cap, start=False, addr=0*2**31/2**12)"
   ]
  },
  {
   "cell_type": "code",
   "execution_count": null,
   "metadata": {},
   "outputs": [],
   "source": []
  }
 ],
 "metadata": {
  "kernelspec": {
   "display_name": "Python 3",
   "language": "python",
   "name": "python3"
  },
  "language_info": {
   "codemirror_mode": {
    "name": "ipython",
    "version": 3
   },
   "file_extension": ".py",
   "mimetype": "text/x-python",
   "name": "python",
   "nbconvert_exporter": "python",
   "pygments_lexer": "ipython3",
   "version": "3.6.5"
  }
 },
 "nbformat": 4,
 "nbformat_minor": 5
}
